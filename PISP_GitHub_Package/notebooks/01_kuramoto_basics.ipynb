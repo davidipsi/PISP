{
 "cells": [
  {
   "cell_type": "markdown",
   "id": "9a3e68a6",
   "metadata": {},
   "source": [
    "# PISP — Kuramoto basics / Fundamentos de Kuramoto"
   ]
  },
  {
   "cell_type": "code",
   "execution_count": null,
   "id": "13ff9669",
   "metadata": {},
   "outputs": [],
   "source": [
    "import numpy as np\n",
    "import matplotlib.pyplot as plt\n",
    "from sims.kuramoto import kuramoto\n",
    "from metrics import integration_index, minmax"
   ]
  },
  {
   "cell_type": "code",
   "execution_count": null,
   "id": "9d86058a",
   "metadata": {},
   "outputs": [],
   "source": [
    "rs, theta = kuramoto(N=200, K=1.5, sigma=0.1, T=20.0, dt=0.01, seed=0)\n",
    "T=20\n",
    "t = np.linspace(0, T, len(rs))\n",
    "plt.figure(); plt.plot(t, rs); plt.xlabel('Time'); plt.ylabel('r ≈ C'); plt.title('Coherence over time'); plt.tight_layout(); plt.show()\n",
    "C = rs.mean()\n",
    "H = 1.0 - C\n",
    "t90_idx = np.argmax(rs >= 0.9*rs.max())\n",
    "t90 = t[t90_idx] if t90_idx>0 else T\n",
    "EE = 1.0 - minmax([t90])[0]\n",
    "I = integration_index(C, EE, H)\n",
    "print({'C':float(C), 'EE':float(EE), 'H':float(H), 'I':float(I)})"
   ]
  }
 ],
 "metadata": {},
 "nbformat": 4,
 "nbformat_minor": 5
}
